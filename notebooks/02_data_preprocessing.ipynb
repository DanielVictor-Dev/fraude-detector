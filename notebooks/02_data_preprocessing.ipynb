{
 "cells": [
  {
   "cell_type": "code",
   "execution_count": 47,
   "id": "9aa59f5c-b97f-43a1-a0d4-9e582a03f09e",
   "metadata": {},
   "outputs": [
    {
     "name": "stdout",
     "output_type": "stream",
     "text": [
      "🔹 1. Lendo o dataset...\n",
      "✅ Dataset carregado: (50000, 13)\n",
      "🔹 2. Preenchendo valores nulos...\n",
      "🔹 3. Separando variável alvo...\n",
      "🔹 4. Identificando colunas categóricas...\n",
      "✅ Colunas categóricas: ['tipo_estabelecimento', 'dispositivo', 'primeira_compra_estabelecimento']\n",
      "🔹 5. Aplicando One-Hot Encoding...\n",
      "✅ Novo shape após encoding: (50000, 17)\n",
      "🔹 6. Escalando os dados...\n",
      "✅ Dados escalados.\n",
      "🔹 7. Dividindo em treino e teste...\n",
      "✅ Divisão concluída.\n"
     ]
    }
   ],
   "source": [
    "# 📦 Importações\n",
    "import pandas as pd\n",
    "from sklearn.model_selection import train_test_split\n",
    "from sklearn.preprocessing import StandardScaler\n",
    "\n",
    "# 🔹 1. Lendo o dataset\n",
    "print(\"🔹 1. Lendo o dataset...\")\n",
    "caminho_dataset = '../data/raw/dataset.csv'\n",
    "\n",
    "try:\n",
    "    df = pd.read_csv(caminho_dataset)\n",
    "    print(f\"✅ Dataset carregado: {df.shape}\")\n",
    "except FileNotFoundError:\n",
    "    print(f\"❌ Arquivo não encontrado no caminho: {caminho_dataset}\")\n",
    "    raise\n",
    "\n",
    "# 🔹 2. Tratamento de valores nulos\n",
    "print(\"🔹 2. Preenchendo valores nulos...\")\n",
    "df = df.fillna(0)\n",
    "\n",
    "# 🔹 3. Separar a variável alvo\n",
    "print(\"🔹 3. Separando variável alvo...\")\n",
    "y = df['status_fraude']\n",
    "X = df.drop('status_fraude', axis=1)\n",
    "\n",
    "# 🔹 4. Identificar colunas categóricas\n",
    "print(\"🔹 4. Identificando colunas categóricas...\")\n",
    "colunas_categoricas = X.select_dtypes(include='object').columns.tolist()\n",
    "print(f\"✅ Colunas categóricas: {colunas_categoricas}\")\n",
    "\n",
    "# 🔹 5. One-Hot Encoding\n",
    "print(\"🔹 5. Aplicando One-Hot Encoding...\")\n",
    "X_encoded = pd.get_dummies(X, columns=colunas_categoricas, drop_first=True)\n",
    "print(f\"✅ Novo shape após encoding: {X_encoded.shape}\")\n",
    "\n",
    "# 🔹 6. Escalonamento\n",
    "print(\"🔹 6. Escalando os dados...\")\n",
    "scaler = StandardScaler()\n",
    "X_scaled = scaler.fit_transform(X_encoded)\n",
    "print(\"✅ Dados escalados.\")\n",
    "\n",
    "# 🔹 7. Split treino/teste\n",
    "print(\"🔹 7. Dividindo em treino e teste...\")\n",
    "X_train, X_test, y_train, y_test = train_test_split(\n",
    "    X_scaled, y, test_size=0.3, random_state=42, stratify=y\n",
    ")\n",
    "print(\"✅ Divisão concluída.\")\n"
   ]
  },
  {
   "cell_type": "code",
   "execution_count": null,
   "id": "7bc9ce4e-5a43-45bd-9462-54a8e3dccd39",
   "metadata": {},
   "outputs": [],
   "source": []
  }
 ],
 "metadata": {
  "kernelspec": {
   "display_name": "Python [conda env:base] *",
   "language": "python",
   "name": "conda-base-py"
  },
  "language_info": {
   "codemirror_mode": {
    "name": "ipython",
    "version": 3
   },
   "file_extension": ".py",
   "mimetype": "text/x-python",
   "name": "python",
   "nbconvert_exporter": "python",
   "pygments_lexer": "ipython3",
   "version": "3.12.7"
  }
 },
 "nbformat": 4,
 "nbformat_minor": 5
}
